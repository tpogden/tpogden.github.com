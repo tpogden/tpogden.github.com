{
  "cells": [
    {
      "cell_type": "raw",
      "metadata": {},
      "source": [
        "---\n",
        "title: \"Sieving for Primes\"\n",
        "date: \"2017-08-03\"\n",
        "categories: [research]\n",
        "page-layout: article\n",
        "execute:\n",
        "  freeze: auto  # re-render only when source changes\n",
        "---"
      ],
      "id": "3355a554"
    },
    {
      "cell_type": "markdown",
      "metadata": {},
      "source": [
        "<!-- TODO: put in an include -->\n",
        "<script src=\"https://d3js.org/d3.v3.min.js\"></script> \n",
        "\n",
        "A common task in number theory problems is to find all the primes up to a number\n",
        "$n$. [Project Euler](https://projecteuler.net/) is a great resource for problems\n",
        "like this. A simple method of finding primes, the [Sieve of\n",
        "Eratosthenes](https://en.wikipedia.org/wiki/Sieve_of_Eratosthenes), was known in\n",
        "Ancient Greece. You start with 2 and discard as non-prime all multiples of 2 up\n",
        "to $n$. You then move onto the next number you haven't discarded, 3, and mark as\n",
        "non-prime all multiples of 3 up to $n$. We've discarded 4, so we move on to 5\n",
        "and continue. We can stop when we get to $\\sqrt n$ as we'll have discarded all\n",
        "the multiples by then.\n",
        "\n",
        "Here's what the algorithm looks like for $n = 400$.\n",
        "\n",
        "<style>\n",
        "\n",
        "  .svg-canvas {\n",
        "    background-color: white;\n",
        "    border: solid 1px rgba(208,199,198,1);\n",
        "  }\n",
        "\n",
        "  .box rect {\n",
        "    fill: rgba(208,199,198,1);\n",
        "    /*fill: rgba(113,107,105,1);*/\n",
        "    shape-rendering: crispEdges;\n",
        "  }\n",
        "\n",
        "  .box text {\n",
        "    fill: rgba(245,243,242,1);\n",
        "    font: 9px sans-serif;\n",
        "    text-anchor: middle;\n",
        "    alignment-baseline: middle;\n",
        "  }\n",
        "\n",
        "  .play path {\n",
        "    stroke: rgba(255,255,255,1);\n",
        "    stroke-width: 16px;\n",
        "    fill: rgba(113,107,105,1);\n",
        "  }\n",
        "\n",
        "  .play:hover path {\n",
        "    fill: rgba(189,54,19,1);\n",
        "  }\n",
        "\n",
        "  .play rect {\n",
        "    fill: none;\n",
        "    pointer-events: all;\n",
        "    cursor: pointer;\n",
        "  }\n",
        "\n",
        "</style>\n",
        "\n",
        "<script src=\"assets/eratosthenes.js\"></script>\n",
        "\n",
        "When should we use the Sieve? In this notebook I'll compare it to a naive\n",
        "iterative search by writing example algorithms in Python.\n",
        "\n",
        "## Solution A: Iterative Search\n",
        "\n",
        "Our first approach is to iteratively build a list of primes up to a limit $n$.\n",
        "\n",
        "When checking a number $i$ for primality, we only need to check prime factors,\n",
        "so we can check the list as we're building it. Also, in checking if a number $i$\n",
        "is prime, we only need to check for factors up to $\\sqrt{i}$.\n",
        "\n",
        "We'll write a method that appends the next prime to an existing list of primes.\n"
      ],
      "id": "e415da59"
    },
    {
      "cell_type": "code",
      "metadata": {},
      "source": [
        "def primes_next(primes):\n",
        "    \"\"\"Take an ordered list of prime numbers and append the next\n",
        "        prime.\n",
        "\n",
        "    Args:\n",
        "        primes: list of ordered primes, with the last prime odd,\n",
        "         e.g. [2,3].\n",
        "\n",
        "    Returns:\n",
        "        The list primes with the next prime appended,\n",
        "         e.g. [2,3,5].\n",
        "    \"\"\"\n",
        "\n",
        "    i = primes[-1]\n",
        "    while True:\n",
        "        i += 2\n",
        "        for p in primes:\n",
        "            if p**2 > i: # No factors found, i prime\n",
        "                primes.append(i)\n",
        "                return primes\n",
        "            if i%p == 0: # Factor found, try next i\n",
        "                break"
      ],
      "id": "140023f0",
      "execution_count": null,
      "outputs": []
    },
    {
      "cell_type": "markdown",
      "metadata": {},
      "source": [
        "So for example, if we have the list `[2, 3, 5]` we expect to return `[2, 3, 5,\n",
        "7]`.\n"
      ],
      "id": "e692fcde"
    },
    {
      "cell_type": "code",
      "metadata": {},
      "source": [
        "print(primes_next([2, 3, 5]))"
      ],
      "id": "91e1701a",
      "execution_count": null,
      "outputs": []
    },
    {
      "cell_type": "markdown",
      "metadata": {},
      "source": [
        "Now we repeat this until we get to $n$.\n"
      ],
      "id": "e948d67c"
    },
    {
      "cell_type": "code",
      "metadata": {},
      "source": [
        "def primes_iterative(n):\n",
        "    \"\"\" Build a list of the primes up to n iteratively. \"\"\"\n",
        "\n",
        "    p = [2,3]\n",
        "    while p[-1] <= n:\n",
        "        primes_next(p)\n",
        "    p.pop() # Discard the last one.\n",
        "    return p"
      ],
      "id": "d8584e97",
      "execution_count": null,
      "outputs": []
    },
    {
      "cell_type": "code",
      "metadata": {},
      "source": [
        "print(primes_iterative(n=20))"
      ],
      "id": "66421ced",
      "execution_count": null,
      "outputs": []
    },
    {
      "cell_type": "markdown",
      "metadata": {},
      "source": [
        "We'll compare the methods later by counting the number of primes up to $n$ each\n",
        "returns.\n"
      ],
      "id": "0630e443"
    },
    {
      "cell_type": "code",
      "metadata": {},
      "source": [
        "def sol_a(n):\n",
        "    \"\"\" Count the number of primes up to n iteratively.\"\"\"\n",
        "    return len(primes_iterative(n))"
      ],
      "id": "583a6f42",
      "execution_count": null,
      "outputs": []
    },
    {
      "cell_type": "code",
      "metadata": {},
      "source": [
        "print(\"The number of primes up to 1000 is {0}.\".format(sol_a(n=1000)))"
      ],
      "id": "f8bae404",
      "execution_count": null,
      "outputs": []
    },
    {
      "cell_type": "markdown",
      "metadata": {},
      "source": [
        "## Solution B: Sieve of Eratosthenes\n",
        "\n",
        "For the Sieve of Eratosthenes algorithm, we'll use some helper functions. First\n",
        "we want a method to sieve out the multiples of a factor $f$.\n"
      ],
      "id": "b60cc1db"
    },
    {
      "cell_type": "code",
      "metadata": {},
      "source": [
        "def sieve_multiples(A, f):\n",
        "    \"\"\"\n",
        "    Set the primality of multiples of f to False.\n",
        "\n",
        "    Args:\n",
        "        A: List of booleans representing primality of each index.\n",
        "        f: Factor to find multiples of.\n",
        "\n",
        "    Notes:\n",
        "        - A is indexed such that A[0] represents 1, A[1] represents 2, etc.\n",
        "        - Only sieves factors greater than f^2.\n",
        "    \"\"\"\n",
        "\n",
        "    for i in range(f**2-1, len(A), f):\n",
        "        A[i] = False"
      ],
      "id": "5009f9cf",
      "execution_count": null,
      "outputs": []
    },
    {
      "cell_type": "markdown",
      "metadata": {},
      "source": [
        "Note that we only need to sieve for factors greater than $f^2$, as the smaller\n",
        "multiples will already have been discarded.\n"
      ],
      "id": "3db90d1a"
    },
    {
      "cell_type": "code",
      "metadata": {},
      "source": [
        "A = [True]*10\n",
        "print(A)\n",
        "sieve_multiples(A, 2)\n",
        "sieve_multiples(A, 3)\n",
        "sieve_multiples(A, 5)\n",
        "print(A)"
      ],
      "id": "708efc0d",
      "execution_count": null,
      "outputs": []
    },
    {
      "cell_type": "markdown",
      "metadata": {},
      "source": [
        "Next a couple of simple helper methods. One to get us the next `True` value in a\n",
        "boolean list.\n"
      ],
      "id": "b6595be4"
    },
    {
      "cell_type": "code",
      "metadata": {},
      "source": [
        "def next_factor(A, start=0):\n",
        "    \"\"\"Returns the next True index in A, after start.\"\"\"\n",
        "    return next((i for i, a in enumerate(A[start:], start=start) if a), None)"
      ],
      "id": "732aa31b",
      "execution_count": null,
      "outputs": []
    },
    {
      "cell_type": "markdown",
      "metadata": {},
      "source": [
        "Another to return all the indexes of all remaining `True` values, shifted by 1.\n",
        "Once we've performed the sieve, this will represent the reminaing primes.\n"
      ],
      "id": "37e949b3"
    },
    {
      "cell_type": "code",
      "metadata": {},
      "source": [
        "def remaining(A):\n",
        "    \"\"\"Returns the indexes of all remaining True values, shifted by 1.\"\"\"\n",
        "    return [i+1 for i, a in enumerate(A) if a]"
      ],
      "id": "42567ce3",
      "execution_count": null,
      "outputs": []
    },
    {
      "cell_type": "markdown",
      "metadata": {},
      "source": [
        "Now we're ready to perform the sieve.\n"
      ],
      "id": "93d5a8ae"
    },
    {
      "cell_type": "code",
      "metadata": {},
      "source": [
        "def primes_eratosthenes(n):\n",
        "    \"\"\" Build a list of the primes below n by the Sieve of Eratosthenes. \"\"\"\n",
        "\n",
        "    A = [True]*n\n",
        "    A[0] = False # 1 is not prime\n",
        "\n",
        "    primes = []\n",
        "    p = 1 # 2 is prime\n",
        "\n",
        "    while p**2 < n: # Only need to check up to sqrt(n)\n",
        "        A[p] = False\n",
        "        primes.append(p+1)\n",
        "        sieve_multiples(A, p+1)\n",
        "        p = next_factor(A, p)\n",
        "\n",
        "    primes.extend(remaining(A)) # All remaining must be prime.\n",
        "\n",
        "    return primes"
      ],
      "id": "a3b8fd94",
      "execution_count": null,
      "outputs": []
    },
    {
      "cell_type": "code",
      "metadata": {},
      "source": [
        "print(primes_eratosthenes(n=20))"
      ],
      "id": "46ae3dd2",
      "execution_count": null,
      "outputs": []
    },
    {
      "cell_type": "markdown",
      "metadata": {},
      "source": [
        "Again we'll write a count method to compare.\n"
      ],
      "id": "7503e482"
    },
    {
      "cell_type": "code",
      "metadata": {},
      "source": [
        "def sol_b(n):\n",
        "    \"\"\" Count the number of primes up to n by the Sieve of Eratosthenes. \"\"\"\n",
        "    return len(primes_eratosthenes(n))"
      ],
      "id": "b5dbdedf",
      "execution_count": null,
      "outputs": []
    },
    {
      "cell_type": "code",
      "metadata": {},
      "source": [
        "print(\"The number of primes up to 1000 is {0}.\".format(sol_b(n=1000)))"
      ],
      "id": "7ca974d2",
      "execution_count": null,
      "outputs": []
    },
    {
      "cell_type": "markdown",
      "metadata": {},
      "source": [
        "## Compare Counts\n",
        "\n",
        "To check the result of the methods against each other, we'll try a few values of\n",
        "$n$. The methods could both be wrong of course.\n"
      ],
      "id": "6b3a3a0f"
    },
    {
      "cell_type": "code",
      "metadata": {},
      "source": [
        "N = [5, 10, 17, 20, 50, 100, 1000, 10000, 100000] #, 1000000]\n",
        "\n",
        "for i, n in enumerate(N):\n",
        "    assert(sol_a(n) == sol_b(n))"
      ],
      "id": "1e272065",
      "execution_count": null,
      "outputs": []
    },
    {
      "cell_type": "markdown",
      "metadata": {},
      "source": [
        "## Complexity Analysis\n",
        "\n",
        "Finally, we'll compare timings by solving the problem over a range of $n$\n",
        "values.\n"
      ],
      "id": "2702fcee"
    },
    {
      "cell_type": "code",
      "metadata": {},
      "source": [
        "N = [10, 20, 50, 100, 1000, 10000, 100000] #, 1000000, 10000000]\n",
        "\n",
        "sol_times_a = [0.0]*len(N)\n",
        "sol_times_b = [0.0]*len(N)\n",
        "\n",
        "for i, n in enumerate(N):\n",
        "    result = %timeit -o sol_a(n)\n",
        "    sol_times_a[i] = result.best\n",
        "\n",
        "    result = %timeit -o sol_b(n)\n",
        "    sol_times_b[i] = result.best"
      ],
      "id": "31b18722",
      "execution_count": null,
      "outputs": []
    },
    {
      "cell_type": "code",
      "metadata": {},
      "source": [
        "%matplotlib inline\n",
        "\n",
        "import matplotlib.pyplot as plt\n",
        "import seaborn as sns\n",
        "\n",
        "plt.figure(figsize=(10, 5))\n",
        "plt.loglog(N, sol_times_a, label='A: Iterative', marker='o', clip_on=False)\n",
        "plt.loglog(N, sol_times_b, label='B: Eratosthenes', marker='o', clip_on=False)\n",
        "plt.legend(loc=0)\n",
        "plt.xlabel('n')\n",
        "plt.ylabel('time (s)');"
      ],
      "id": "9121e50e",
      "execution_count": null,
      "outputs": []
    },
    {
      "cell_type": "markdown",
      "metadata": {},
      "source": [
        "In figure 1 we compare the best-of-three timings on my laptop of the two methods\n",
        "over a range of $n$ values. We see that the iterative search is quicker for $n =\n",
        "10$, but for $n = 20$ and beyond, the Eratosthenes method is quicker. Over this\n",
        "range, both are polynomial below quadratic.\n"
      ],
      "id": "4d0d3bfc"
    },
    {
      "cell_type": "code",
      "metadata": {},
      "source": [
        "speedup = [sol_times_a[i]/sol_times_b[i] for i, x in enumerate(sol_times_b)]\n",
        "\n",
        "plt.figure(figsize=(10, 5))\n",
        "plt.semilogx(N, speedup, marker='o', clip_on=False)\n",
        "plt.axhline(1, c='grey', ls='--', lw=1)\n",
        "plt.xlabel('n')\n",
        "plt.ylabel('Eratosthenes Speedup');"
      ],
      "id": "e8d20d21",
      "execution_count": null,
      "outputs": []
    },
    {
      "cell_type": "markdown",
      "metadata": {},
      "source": [
        "In figure 2 we show the speedup of the Eratosthenes method over the iterative\n",
        "search. The speedup peaks at about 7$\\times$ faster at $n = 10^4$. Beyond this\n",
        "Eratosthenes method is still significantly faster, but the speedup is coming\n",
        "down. This is likely due to the fact that the Sieve of Eratosthenes for high $n$\n",
        "becomes memory intensive, as we need to store all of the numbers up to $n$,\n",
        "whereas with the more computationally intensive iterative search, we only need\n",
        "to store the primes we've already calculated.\n",
        "\n",
        "The runtimes at $n = 10^7$ are in the order of minutes and already long enough\n",
        "that we'd want to look at further tuning of the algorithm beyond this."
      ],
      "id": "0b4ae6d5"
    }
  ],
  "metadata": {
    "kernelspec": {
      "name": "quarto",
      "language": "python",
      "display_name": "quarto"
    }
  },
  "nbformat": 4,
  "nbformat_minor": 5
}